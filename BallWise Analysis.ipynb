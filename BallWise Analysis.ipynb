{
 "cells": [
  {
   "cell_type": "markdown",
   "metadata": {},
   "source": [
    "# 1. Introduction"
   ]
  },
  {
   "cell_type": "markdown",
   "metadata": {},
   "source": [
    "Indian Premiere League is a 20 over cricket (T20) tournament played in India every year. It generally comprises of 8 teams representing the 8 Indian cities and is one of the most watched cricket tournaments around the world. It is also one of the most cash rich leagues in cricket.\n",
    "\n",
    "In this project I have analyzed the data of IPL matches from 2008 to 2019 to gather insights. The current edition of IPL 2020 has not been included in the analysis. The data has been collected from the Kaggle website (https://www.kaggle.com/nowke9/ipldata)."
   ]
  },
  {
   "cell_type": "code",
   "execution_count": 1,
   "metadata": {},
   "outputs": [
    {
     "ename": "ModuleNotFoundError",
     "evalue": "No module named 'matplotlib'",
     "output_type": "error",
     "traceback": [
      "\u001b[1;31m---------------------------------------------------------------------------\u001b[0m",
      "\u001b[1;31mModuleNotFoundError\u001b[0m                       Traceback (most recent call last)",
      "\u001b[1;32m<ipython-input-1-7b69af8e12fd>\u001b[0m in \u001b[0;36m<module>\u001b[1;34m\u001b[0m\n\u001b[0;32m      1\u001b[0m \u001b[1;32mimport\u001b[0m \u001b[0mpandas\u001b[0m \u001b[1;32mas\u001b[0m \u001b[0mpd\u001b[0m\u001b[1;33m\u001b[0m\u001b[1;33m\u001b[0m\u001b[0m\n\u001b[0;32m      2\u001b[0m \u001b[1;32mimport\u001b[0m \u001b[0mnumpy\u001b[0m \u001b[1;32mas\u001b[0m \u001b[0mnp\u001b[0m\u001b[1;33m\u001b[0m\u001b[1;33m\u001b[0m\u001b[0m\n\u001b[1;32m----> 3\u001b[1;33m \u001b[1;32mimport\u001b[0m \u001b[0mmatplotlib\u001b[0m\u001b[1;33m.\u001b[0m\u001b[0mpyplot\u001b[0m \u001b[1;32mas\u001b[0m \u001b[0mplt\u001b[0m\u001b[1;33m\u001b[0m\u001b[1;33m\u001b[0m\u001b[0m\n\u001b[0m\u001b[0;32m      4\u001b[0m \u001b[1;32mimport\u001b[0m \u001b[0mseaborn\u001b[0m \u001b[1;32mas\u001b[0m \u001b[0msns\u001b[0m\u001b[1;33m\u001b[0m\u001b[1;33m\u001b[0m\u001b[0m\n",
      "\u001b[1;31mModuleNotFoundError\u001b[0m: No module named 'matplotlib'"
     ]
    }
   ],
   "source": [
    "import pandas as pd\n",
    "import numpy as np\n",
    "import matplotlib.pyplot as plt\n",
    "import seaborn as sns"
   ]
  },
  {
   "cell_type": "markdown",
   "metadata": {},
   "source": [
    "# 2. Data Gathering"
   ]
  },
  {
   "cell_type": "markdown",
   "metadata": {},
   "source": [
    "The data has been gathered from the Kaggle website and has been downloaded in a csv format into the local drive."
   ]
  },
  {
   "cell_type": "code",
   "execution_count": null,
   "metadata": {},
   "outputs": [],
   "source": [
    "# Reading the match data from the csv file\n",
    "match = pd.read_csv(r'/kaggle/input/ipldata/matches.csv')\n",
    "match.head(2)"
   ]
  },
  {
   "cell_type": "code",
   "execution_count": null,
   "metadata": {},
   "outputs": [],
   "source": [
    "# Reading the data for each ball \n",
    "ball= pd.read_csv(r'/kaggle/input/ipldata/deliveries.csv')\n",
    "ball.head(2)"
   ]
  },
  {
   "cell_type": "code",
   "execution_count": null,
   "metadata": {},
   "outputs": [],
   "source": []
  },
  {
   "cell_type": "markdown",
   "metadata": {},
   "source": [
    "# 3. Data Wrangling"
   ]
  },
  {
   "cell_type": "markdown",
   "metadata": {},
   "source": [
    "### 3.1 Missing Values"
   ]
  },
  {
   "cell_type": "code",
   "execution_count": null,
   "metadata": {},
   "outputs": [],
   "source": [
    "match.info()"
   ]
  },
  {
   "cell_type": "markdown",
   "metadata": {},
   "source": [
    "So there are total 756 matches with 752 decided winners. Let us see which rows do not have any decided winner."
   ]
  },
  {
   "cell_type": "code",
   "execution_count": null,
   "metadata": {},
   "outputs": [],
   "source": [
    "match[match.isna()['winner']]"
   ]
  },
  {
   "cell_type": "markdown",
   "metadata": {},
   "source": [
    "So these matches were probably washed from the rains and did not have any results declared."
   ]
  },
  {
   "cell_type": "code",
   "execution_count": null,
   "metadata": {},
   "outputs": [],
   "source": [
    "ball.info()"
   ]
  },
  {
   "cell_type": "markdown",
   "metadata": {},
   "source": [
    "This dataframe has missing values only for player dismissed and dismissal_kind. <br>\n",
    "\n",
    "The data type for all the columns also seem to be okay."
   ]
  },
  {
   "cell_type": "markdown",
   "metadata": {},
   "source": [
    "### 3.2 Duplicate values"
   ]
  },
  {
   "cell_type": "code",
   "execution_count": null,
   "metadata": {},
   "outputs": [],
   "source": [
    "match.duplicated().sum()"
   ]
  },
  {
   "cell_type": "code",
   "execution_count": null,
   "metadata": {},
   "outputs": [],
   "source": [
    "ball.duplicated().sum()"
   ]
  },
  {
   "cell_type": "code",
   "execution_count": null,
   "metadata": {},
   "outputs": [],
   "source": [
    "ball[ball.duplicated()].head()"
   ]
  },
  {
   "cell_type": "code",
   "execution_count": null,
   "metadata": {},
   "outputs": [],
   "source": [
    "ball.query('match_id==221 & inning==1 & over==4 & ball==1')"
   ]
  },
  {
   "cell_type": "markdown",
   "metadata": {},
   "source": [
    "So these duplicate values need to be removed as they dont add any value."
   ]
  },
  {
   "cell_type": "code",
   "execution_count": null,
   "metadata": {},
   "outputs": [],
   "source": [
    "ball.drop_duplicates(inplace= True)"
   ]
  },
  {
   "cell_type": "markdown",
   "metadata": {},
   "source": [
    "### 3.3 Renaming Franchise team names\n",
    "Some teams like Deccan Chargers/ Sunrisers Hyderabad can be grouped together as they were the same teams."
   ]
  },
  {
   "cell_type": "code",
   "execution_count": null,
   "metadata": {},
   "outputs": [],
   "source": [
    "# Replacing Franchise names\n",
    "ball.replace({'Sunrisers Hyderabad':'Hyderabad (Sunriser/Chargers)','Deccan Chargers':'Hyderabad (Sunriser/Chargers)',\\\n",
    "'Rising Pune Supergiants':'Pune (Supergiant/ Warriors)','Delhi Daredevils':'Delhi (Capitals/ Daredevils)',\\\n",
    "'Delhi Capitals':'Delhi (Capitals/ Daredevils)','Pune Warriors':'Pune (Supergiant/ Warriors)',\n",
    "'Rising Pune Supergiant':'Pune (Supergiant/ Warriors)'}, inplace= True)"
   ]
  },
  {
   "cell_type": "code",
   "execution_count": null,
   "metadata": {},
   "outputs": [],
   "source": [
    "ball.batting_team.unique()"
   ]
  },
  {
   "cell_type": "code",
   "execution_count": null,
   "metadata": {},
   "outputs": [],
   "source": [
    "match.replace({'Sunrisers Hyderabad':'Hyderabad (Sunriser/Chargers)','Deccan Chargers':'Hyderabad (Sunriser/Chargers)',\\\n",
    "'Rising Pune Supergiants':'Pune (Supergiant/ Warriors)','Delhi Daredevils':'Delhi (Capitals/ Daredevils)',\\\n",
    "'Delhi Capitals':'Delhi (Capitals/ Daredevils)','Pune Warriors':'Pune (Supergiant/ Warriors)',\n",
    "'Rising Pune Supergiant':'Pune (Supergiant/ Warriors)'}, inplace= True)"
   ]
  },
  {
   "cell_type": "code",
   "execution_count": null,
   "metadata": {},
   "outputs": [],
   "source": [
    "match.team2.nunique()"
   ]
  },
  {
   "cell_type": "markdown",
   "metadata": {},
   "source": [
    "### 3.4 Creating summary dataframes from ball dataframe"
   ]
  },
  {
   "cell_type": "code",
   "execution_count": null,
   "metadata": {},
   "outputs": [],
   "source": [
    "# Creating a new df summarizing total runs and wickets that fell in each innings\n",
    "\n",
    "summary= ball.groupby(by=['match_id','inning','batting_team']).sum()['total_runs'].reset_index()\n",
    "temp = ball.groupby(by=['match_id','inning','batting_team']).count()['player_dismissed'].reset_index()\n",
    "\n",
    "summary= pd.merge(summary, temp,how='outer', on= ['match_id','inning', 'batting_team'])"
   ]
  },
  {
   "cell_type": "code",
   "execution_count": null,
   "metadata": {},
   "outputs": [],
   "source": [
    "# Creating a new column combining the over and the ball bowled\n",
    "ball['over_ball']= ball['over']+ball['ball']/10"
   ]
  },
  {
   "cell_type": "code",
   "execution_count": null,
   "metadata": {},
   "outputs": [],
   "source": [
    "# Merging the total balls used in the innings with the summary data\n",
    "temp= ball.groupby(by=['match_id','inning','batting_team']).max(numeric_only=True)['over_ball'].reset_index()\n",
    "\n",
    "summary= pd.merge(summary, temp,how='outer', on= ['match_id','inning', 'batting_team'])\n",
    "summary.head(2)"
   ]
  },
  {
   "cell_type": "code",
   "execution_count": null,
   "metadata": {},
   "outputs": [],
   "source": [
    "# Changing the matrix into a long format\n",
    "s1 = summary.melt(id_vars=['match_id','inning',]).query('variable==\"total_runs\" & inning==1')[['match_id','value']]\n",
    "s2 =summary.melt(id_vars=['match_id','inning',]).query('variable==\"total_runs\" & inning==2')[['match_id','value']]\n",
    "temp= pd.merge(s1, s2, on='match_id', how='inner')\n",
    "\n",
    "s1= summary.melt(id_vars=['match_id','inning',]).query('variable==\"over_ball\" & inning==1')[['match_id','value']]\n",
    "s2=summary.melt(id_vars=['match_id','inning',]).query('variable==\"over_ball\" & inning==2')[['match_id','value']]\n",
    "temp2= pd.merge(s1,s2,on='match_id', how='inner')\n",
    "\n",
    "s1= summary.melt(id_vars=['match_id','inning',]).query('variable==\"player_dismissed\" & inning==1')[['match_id','value']]\n",
    "s2=summary.melt(id_vars=['match_id','inning',]).query('variable==\"player_dismissed\" & inning==2')[['match_id','value']]\n",
    "temp3 = pd.merge(s1,s2,on='match_id', how='inner')\n",
    "\n",
    "summary = pd.merge(pd.merge(temp,temp2, on= 'match_id', how='inner'), temp3, on='match_id', how='inner')\n",
    "\n",
    "summary.rename(columns={'value_x_x':'runs_1', 'value_y_x':'runs_2','value_x_y':'overs_1','value_y_y':'overs_2',\\\n",
    "    'value_x':'wickets_1', 'value_y':'wickets_2'}, inplace= True)\n",
    "summary.head()"
   ]
  },
  {
   "cell_type": "code",
   "execution_count": null,
   "metadata": {},
   "outputs": [],
   "source": [
    "# Merging the summary data with match info data\n",
    "match= pd.merge(match, summary, right_on= 'match_id', left_on= 'id', how='left')"
   ]
  },
  {
   "cell_type": "markdown",
   "metadata": {},
   "source": [
    "### 3.5 Droppping umpire information as it is not essential for our analysis"
   ]
  },
  {
   "cell_type": "code",
   "execution_count": null,
   "metadata": {},
   "outputs": [],
   "source": [
    "match.drop(columns=['umpire1', 'umpire2', 'umpire3'], inplace= True)"
   ]
  },
  {
   "cell_type": "code",
   "execution_count": null,
   "metadata": {},
   "outputs": [],
   "source": [
    "match.head(2)"
   ]
  },
  {
   "cell_type": "markdown",
   "metadata": {},
   "source": [
    "### 3.6 Creating a batsman summary dataframe"
   ]
  },
  {
   "cell_type": "code",
   "execution_count": null,
   "metadata": {},
   "outputs": [],
   "source": [
    "# Total runs scored by each batsman\n",
    "batsman= ball.groupby(by='batsman').sum()['batsman_runs'].reset_index()\n",
    "\n",
    "#Total balls played by each batsman\n",
    "temp = ball.groupby(by='batsman').count()['ball']\n",
    "batsman= pd.merge(batsman, temp, how='outer',on='batsman')\n",
    "\n",
    "# Total 4s hit\n",
    "temp = ball.query('batsman_runs==4').groupby(by='batsman').count()['batsman_runs'].reset_index()\n",
    "batsman = pd.merge(batsman, temp, how='outer',on='batsman')\n",
    "\n",
    "#Total 6s hit\n",
    "temp= ball.query('batsman_runs==6').groupby(by='batsman').count()['batsman_runs'].reset_index()\n",
    "batsman = pd.merge(batsman, temp, how='outer',on='batsman')\n",
    "\n",
    "batsman.rename(columns={'batsman_runs_x':'total_runs','batsman_runs_y':'4s', 'batsman_runs':'6s'}, inplace= True)\n",
    "batsman.head(3)"
   ]
  },
  {
   "cell_type": "code",
   "execution_count": null,
   "metadata": {},
   "outputs": [],
   "source": [
    "# Calculating the strike rate\n",
    "batsman['strike_rate']= (batsman.total_runs/ batsman.ball)*100\n",
    "batsman.head(2)"
   ]
  },
  {
   "cell_type": "code",
   "execution_count": null,
   "metadata": {},
   "outputs": [],
   "source": [
    "# Calculating percent of the runs scored by boundries\n",
    "batsman['boundary_percent']= (batsman['4s']*4+ batsman['6s']*6)/ batsman.total_runs\n",
    "batsman.head(1)"
   ]
  },
  {
   "cell_type": "code",
   "execution_count": null,
   "metadata": {},
   "outputs": [],
   "source": [
    "# Calculating the runs scored by openers in each match\n",
    "#calculating the runs scored by each batsman in each match\n",
    "a= ball.groupby(by=['match_id','batsman']).sum()['batsman_runs']\n",
    "b= ball.groupby(by=['match_id','batsman']).count()['total_runs']\n",
    "opening = pd.DataFrame(data=[a,b]).transpose().reset_index()\n",
    "\n",
    "# finding which batsmen opened\n",
    "opening2= ball.query('over==1 & ball==1')[['match_id','batsman','non_striker']].melt(id_vars='match_id')\n",
    "opening = pd.merge(opening, opening2, how='right',left_on =['match_id','batsman'], right_on=['match_id','value'])\n",
    "\n",
    "#renaming columns\n",
    "opening.rename(columns={'total_runs':'opening_balls', 'batsman_runs':'opening_runs'}, inplace= True)\n",
    "#dropping redundant columns\n",
    "opening.drop(columns=['variable','value'], inplace= True)\n",
    "opening.head()"
   ]
  },
  {
   "cell_type": "code",
   "execution_count": null,
   "metadata": {},
   "outputs": [],
   "source": [
    "# Aggregating the runs scored by openers\n",
    "opening= opening.groupby(by='batsman').sum()[['opening_runs','opening_balls']].reset_index()\n",
    "\n",
    "batsman= pd.merge(batsman, opening, on='batsman', how='left')\n",
    "batsman.head(3)"
   ]
  },
  {
   "cell_type": "code",
   "execution_count": null,
   "metadata": {},
   "outputs": [],
   "source": []
  },
  {
   "cell_type": "markdown",
   "metadata": {},
   "source": [
    "### 3.7 Creating a bowler summary dataframe"
   ]
  },
  {
   "cell_type": "code",
   "execution_count": null,
   "metadata": {},
   "outputs": [],
   "source": [
    "ball.dismissal_kind.value_counts()"
   ]
  },
  {
   "cell_type": "markdown",
   "metadata": {},
   "source": [
    "For calculating the wickets picked by the bowler we need to exclude the run outs, retired hurt and obstructing the field. There are actually 2 dismissals for obstructing the field!!! <br>\n",
    "\n",
    "A quick Google search reveals that they were probable runouts but the batsmen (Yusuf Pathan and Amit Mishra) blocked the ball from hitting the stumps and hence were declared out."
   ]
  },
  {
   "cell_type": "code",
   "execution_count": null,
   "metadata": {},
   "outputs": [],
   "source": [
    "ball.head(2)"
   ]
  },
  {
   "cell_type": "code",
   "execution_count": null,
   "metadata": {},
   "outputs": [],
   "source": [
    "# Total balls bowled and total runs given by the bowler\n",
    "bowler= ball.groupby(by='bowler').count()['ball'].reset_index()\n",
    "temp= ball.groupby(by='bowler').sum()['total_runs']\n",
    "\n",
    "bowler= pd.merge(bowler, temp, on='bowler', how='outer')"
   ]
  },
  {
   "cell_type": "code",
   "execution_count": null,
   "metadata": {},
   "outputs": [],
   "source": [
    "# Filtering the runouts/ retired hurts\n",
    "temp = ball.query('dismissal_kind!=\"obstructing the field\" & dismissal_kind !=\"retired hurt\" & dismissal_kind != \"run out\"')\n",
    "\n",
    "# Filtering the wickets taken\n",
    "temp = temp[~temp.isna().dismissal_kind][['bowler','dismissal_kind']]\n",
    "temp= temp.groupby(by=['bowler']).count().reset_index()\n",
    "\n",
    "bowler= pd.merge(bowler, temp, on='bowler', how='outer')"
   ]
  },
  {
   "cell_type": "code",
   "execution_count": null,
   "metadata": {},
   "outputs": [],
   "source": [
    "# Renaming the column to reflect the wickets\n",
    "bowler.rename(columns={'dismissal_kind':'wickets_taken'}, inplace= True)"
   ]
  },
  {
   "cell_type": "code",
   "execution_count": null,
   "metadata": {},
   "outputs": [],
   "source": [
    "# Calculating the total dot balls\n",
    "temp = ball.query('total_runs==0').groupby(by='bowler').count()['ball'].reset_index()\n",
    "bowler= pd.merge(bowler, temp, on='bowler', how='outer')"
   ]
  },
  {
   "cell_type": "code",
   "execution_count": null,
   "metadata": {},
   "outputs": [],
   "source": [
    "# Renaming the column to reflect the wickets\n",
    "bowler.rename(columns={'ball_x':'balls_bowled', 'ball_y':'dot_balls'}, inplace= True)\n",
    "bowler.head(1)"
   ]
  },
  {
   "cell_type": "code",
   "execution_count": null,
   "metadata": {},
   "outputs": [],
   "source": [
    "# Calculating the number of bowled and LBWs taken by the bowler\n",
    "temp =ball.query('dismissal_kind==\"bowled\" | dismissal_kind ==\"lbw\" ').groupby(by='bowler').count()['dismissal_kind'].reset_index()\n",
    "bowler= pd.merge(bowler, temp, on='bowler', how='outer')\n",
    "bowler.head(3)"
   ]
  },
  {
   "cell_type": "code",
   "execution_count": null,
   "metadata": {},
   "outputs": [],
   "source": [
    "# Renaming the column to reflect the wickets\n",
    "bowler.rename(columns={'dismissal_kind':'bowl_or_lbw'}, inplace= True)"
   ]
  },
  {
   "cell_type": "code",
   "execution_count": null,
   "metadata": {},
   "outputs": [],
   "source": [
    "bowler.head(1)"
   ]
  },
  {
   "cell_type": "code",
   "execution_count": null,
   "metadata": {},
   "outputs": [],
   "source": [
    "# Calculating the bowler economy\n",
    "bowler['economy']= bowler.total_runs/ (bowler.balls_bowled/6)"
   ]
  },
  {
   "cell_type": "code",
   "execution_count": null,
   "metadata": {},
   "outputs": [],
   "source": [
    "# Calculating dot ball percent\n",
    "bowler['dot_ball_percent']= bowler.dot_balls/bowler.balls_bowled"
   ]
  },
  {
   "cell_type": "code",
   "execution_count": null,
   "metadata": {},
   "outputs": [],
   "source": [
    "# Calculating the runs scored in last 3 overs (death over) to compare the bowlers performance\n",
    "a= ball.query('over>=18').groupby('bowler').sum()['total_runs']\n",
    "b= ball.query('over>=18').groupby('bowler').count()['batsman_runs']\n",
    "temp =pd.DataFrame(data=[a,b] ).transpose().reset_index()\n",
    "temp.rename(columns={'total_runs':'death_runs','batsman_runs':'death_balls' }, inplace= True)\n",
    "\n",
    "bowler= pd.merge(bowler, temp, on='bowler', how='outer')\n",
    "bowler.head(3)"
   ]
  },
  {
   "cell_type": "code",
   "execution_count": null,
   "metadata": {},
   "outputs": [],
   "source": [
    "# Calculating bowling economy in death over\n",
    "bowler['death_econ']= bowler.death_runs/ (bowler.death_balls/6)"
   ]
  },
  {
   "cell_type": "code",
   "execution_count": null,
   "metadata": {},
   "outputs": [],
   "source": [
    "# Calculating the percentage of bowled and LBWs by the bowler among the wickets they took\n",
    "bowler['bowl_lbw_percent']= bowler.bowl_or_lbw/ bowler.wickets_taken"
   ]
  },
  {
   "cell_type": "code",
   "execution_count": null,
   "metadata": {},
   "outputs": [],
   "source": [
    "bowler.head(1)"
   ]
  },
  {
   "cell_type": "markdown",
   "metadata": {},
   "source": [
    "### 3.8 Team inning summary\n",
    "To calculate over wise run scoring for each team"
   ]
  },
  {
   "cell_type": "code",
   "execution_count": null,
   "metadata": {},
   "outputs": [],
   "source": [
    "# Total innings played for each over bowled\n",
    "overs_played= ball[['batting_team','over','match_id']].drop_duplicates().groupby(by=['batting_team','over']).count()['match_id'].reset_index()"
   ]
  },
  {
   "cell_type": "code",
   "execution_count": null,
   "metadata": {},
   "outputs": [],
   "source": [
    "# Total runs scored in each over\n",
    "over_runs= ball.groupby(by=['batting_team','over']).sum()['total_runs'].reset_index()\n",
    "over_runs= pd.merge(over_runs, overs_played, on=['batting_team','over'], how='outer')\n",
    "\n",
    "over_runs.rename(columns={'match_id':'matches'}, inplace= True)"
   ]
  },
  {
   "cell_type": "code",
   "execution_count": null,
   "metadata": {},
   "outputs": [],
   "source": [
    "# Calculating average runs scored in each over\n",
    "over_runs['avg']= over_runs.total_runs/ over_runs.matches"
   ]
  },
  {
   "cell_type": "code",
   "execution_count": null,
   "metadata": {},
   "outputs": [],
   "source": [
    "over_runs.head()"
   ]
  },
  {
   "cell_type": "markdown",
   "metadata": {},
   "source": [
    "### 3.9 Changing the datatype for Match columns"
   ]
  },
  {
   "cell_type": "code",
   "execution_count": null,
   "metadata": {},
   "outputs": [],
   "source": [
    "# Changing the data type for the match columns to float values\n",
    "float_list=['runs_1', 'runs_2','overs_1', 'overs_2','wickets_1', 'wickets_2' ]\n",
    "for col in float_list:\n",
    "    match.loc[:,col] = match[col].astype(float)\n",
    "match.info()"
   ]
  },
  {
   "cell_type": "markdown",
   "metadata": {},
   "source": [
    "### 3.10 Replacing the city names that are same"
   ]
  },
  {
   "cell_type": "code",
   "execution_count": null,
   "metadata": {},
   "outputs": [],
   "source": [
    "match.replace({'Bengaluru':'Bangalore'}, inplace= True)"
   ]
  },
  {
   "cell_type": "markdown",
   "metadata": {},
   "source": [
    "### 3.11 Which team won the match (batting or fielding first)"
   ]
  },
  {
   "cell_type": "code",
   "execution_count": null,
   "metadata": {},
   "outputs": [],
   "source": [
    "match['batting_first_won']= match.winner== match.team1"
   ]
  },
  {
   "cell_type": "markdown",
   "metadata": {},
   "source": [
    "# 4. Exploratory Data Analysis"
   ]
  },
  {
   "cell_type": "markdown",
   "metadata": {},
   "source": [
    "### 4.1. Average runs scored in each over"
   ]
  },
  {
   "cell_type": "code",
   "execution_count": null,
   "metadata": {},
   "outputs": [],
   "source": [
    "# Plotting average runs scored in each over in IPL\n",
    "series= over_runs.groupby(by='over').mean()['avg']\n",
    "sns.set_style('darkgrid')\n",
    "\n",
    "plt.figure(figsize=(10,6))\n",
    "sns.barplot(x=series.index, y=series, color='tab:blue', )\n",
    "plt.axhline(over_runs.avg.mean(), color='r', label= 'Avg runs scored total')\n",
    "plt.title('Average runs scored in each over')\n",
    "plt.ylabel('Average runs scored')\n",
    "plt.xlabel('Over number')\n",
    "plt.yticks(np.arange(0,11))\n",
    "plt.legend()\n",
    "plt.show()"
   ]
  },
  {
   "cell_type": "markdown",
   "metadata": {},
   "source": [
    "To see trends of the average runs scored in each over I plotted a barplot between the over and the runs scored in that over. On an average teams score approximately 8 runs per over.\n",
    "\n",
    "However, almost all teams have a cautious start to the innings scoring between 6-7 runs in the first 2 overs and accelerating in the next 4 overs before the powerplay ends. \n",
    "\n",
    "The slog overs 17+ see on an average 9-10 runs being scored per over."
   ]
  },
  {
   "cell_type": "markdown",
   "metadata": {},
   "source": [
    "### Average runs scored per over team wise"
   ]
  },
  {
   "cell_type": "code",
   "execution_count": null,
   "metadata": {},
   "outputs": [],
   "source": [
    "color_code= {'Chennai Super Kings':'y','Delhi (Capitals/ Daredevils)':'b','Hyderabad (Sunriser/Chargers)':'tab:orange',\\\n",
    "  'Kings XI Punjab':'r', 'Kolkata Knight Riders':'k','Mumbai Indians':'tab:blue','Rajasthan Royals':'tab:pink',\\\n",
    "     'Royal Challengers Bangalore':'tab:red'}"
   ]
  },
  {
   "cell_type": "code",
   "execution_count": null,
   "metadata": {},
   "outputs": [],
   "source": [
    "# Average runs scored per over team wise\n",
    "sns.set_style('darkgrid')\n",
    "plt.figure(figsize=(10,6))\n",
    "\n",
    "temp= over_runs.query('batting_team !=\"Kochi Tuskers Kerala\" & batting_team != \"Pune (Supergiant/ Warriors)\" & \\\n",
    "batting_team !=\"Gujarat Lions\"')\n",
    "sns.lineplot(x='over', y='avg', data=temp, hue='batting_team', palette=color_code)\n",
    "plt.xticks(np.arange(1,21))\n",
    "plt.legend(loc=(1.05,0.3))\n",
    "plt.title('Average runs scored per over (team wise)')\n",
    "plt.xlabel('Over')\n",
    "plt.ylabel('Average runs scored')\n",
    "plt.show()"
   ]
  },
  {
   "cell_type": "markdown",
   "metadata": {},
   "source": [
    "Chennai Super Kings makes one of the slowest starts among all the IPL teams but finishes among the highest run scorers in the last few overs. It starts by scoring about 2-3 runs in the first over, compared to 7 runs scored by Kolkata Knight Riders (KKR).\n",
    "\n",
    "However, CSK finished with about 11+ runs in the final over compared to only 9 runs by KKR.\n",
    "\n",
    "The trends of runs scored among all the teams see similar peaks and valleys"
   ]
  },
  {
   "cell_type": "markdown",
   "metadata": {},
   "source": [
    "### 4.2 Winning percent team and inning wise"
   ]
  },
  {
   "cell_type": "code",
   "execution_count": null,
   "metadata": {},
   "outputs": [],
   "source": [
    "# Grouping the wins for teams batting first and second\n",
    "temp = match.groupby(by=['winner','team1']).count()['id'].reset_index().query('winner==team1')[['winner','id']]\n",
    "temp2 = match.groupby(by=['winner','team2']).count()['id'].reset_index().query('winner==team2')[['winner','id']]\n",
    "temp3= pd.DataFrame([match.team1.value_counts(),match.team2.value_counts()],).transpose().reset_index()\n",
    "\n",
    "team_stat= pd.merge(temp, temp2, on='winner', how='inner')\n",
    "team_stat= pd.merge(team_stat, temp3, left_on='winner',right_on='index', how='inner')\n",
    "\n",
    "team_stat.rename(columns={'id_x':'batting_first','id_y':'batting_second'}, inplace= True)\n",
    "team_stat.drop(columns=['index'], inplace= True)"
   ]
  },
  {
   "cell_type": "code",
   "execution_count": null,
   "metadata": {},
   "outputs": [],
   "source": [
    "# finding win percent inning wise\n",
    "team_stat['win_percent_first']= team_stat['batting_first']/ team_stat['team1']\n",
    "team_stat['win_percent_second']= team_stat['batting_second']/ team_stat['team2']"
   ]
  },
  {
   "cell_type": "code",
   "execution_count": null,
   "metadata": {},
   "outputs": [],
   "source": [
    "# Aggregating the win percent\n",
    "team_stat['win_percent']=(team_stat.batting_first+ team_stat.batting_second)/ (team_stat.team1+ team_stat.team2)"
   ]
  },
  {
   "cell_type": "code",
   "execution_count": null,
   "metadata": {},
   "outputs": [],
   "source": [
    "# Sorting the values\n",
    "team_stat.sort_values(by='win_percent', inplace=True, ascending=False)"
   ]
  },
  {
   "cell_type": "code",
   "execution_count": null,
   "metadata": {},
   "outputs": [],
   "source": [
    "plt.figure(figsize=(8,6))\n",
    "sns.set_style('darkgrid')\n",
    "\n",
    "sns.lineplot(x= 'winner', y= 'win_percent_first',data=team_stat, color='g',label='Batting First', sort= False, marker='o' )\n",
    "sns.lineplot(x= 'winner', y= 'win_percent_second', data=team_stat, color='y', label= 'Fielding First',sort=False,marker='o')\n",
    "sns.barplot(x='winner', y= 'win_percent',data=team_stat,  color='tab:blue', label='Average winning rate')\n",
    "\n",
    "plt.xticks(rotation=90)\n",
    "plt.xlabel('IPL Team')\n",
    "plt.ylabel('Winning Percent')\n",
    "plt.title('Winning percent for each team')\n",
    "plt.legend()\n",
    "plt.show()"
   ]
  },
  {
   "cell_type": "markdown",
   "metadata": {},
   "source": [
    "Unsurprisingly, CSK has one of the highest win percents in the IPL games winning about 61% of its games. However, it has a slightly better chasing record (65%) than a batting first record (57% wins). Interstingly, all the teams have a better chasing record than batting first record (chasing team wins 55% matches).\n",
    "\n",
    "This difference is most prominent in Kolkata Knight Riders who have a win percent of 61% chasing but only 41% batting first. Similary, Rajasthan Royals also have a large gap between the chasing (57.5%) and batting first (43%) win percents. Mumbai Indians has almost similar winning percent for both batting and fielding first (57% and 59% respectively)."
   ]
  },
  {
   "cell_type": "code",
   "execution_count": null,
   "metadata": {},
   "outputs": [],
   "source": [
    "team_stat"
   ]
  },
  {
   "cell_type": "markdown",
   "metadata": {},
   "source": [
    "### Cliffhanger matches\n",
    "We need to see how many matches were decided in the last over to see if they were cliffhanger matches. \n",
    "\n",
    "To see this we will find how many times Team 2 won the match after the 20.3th over and how many times Team 1 won by less than 6 runs (maximum runs that can be scored on a ball)."
   ]
  },
  {
   "cell_type": "code",
   "execution_count": null,
   "metadata": {},
   "outputs": [],
   "source": [
    "# Finding matches where Team 1 won by less than 6 runs or Team 2 won in last 3 balls\n",
    "cliff= match.query('(win_by_runs <6 & win_by_runs >0) | (overs_2 > 20.3 & win_by_wickets >0)')"
   ]
  },
  {
   "cell_type": "code",
   "execution_count": null,
   "metadata": {},
   "outputs": [],
   "source": []
  },
  {
   "cell_type": "code",
   "execution_count": null,
   "metadata": {},
   "outputs": [],
   "source": [
    "# Grouping the wins for teams batting first and second\n",
    "temp = cliff.groupby(by=['winner','team1']).count()['id'].reset_index().query('winner==team1')[['winner','id']]\n",
    "temp2 = cliff.groupby(by=['winner','team2']).count()['id'].reset_index().query('winner==team2')[['winner','id']]"
   ]
  },
  {
   "cell_type": "code",
   "execution_count": null,
   "metadata": {},
   "outputs": [],
   "source": [
    "# Grouping the wins for teams batting first and second\n",
    "temp = cliff.groupby(by=['winner','team1']).count()['id'].reset_index().query('winner==team1')[['winner','id']]\n",
    "temp2 = cliff.groupby(by=['winner','team2']).count()['id'].reset_index().query('winner==team2')[['winner','id']]\n",
    "temp3= pd.DataFrame([cliff.team1.value_counts(),cliff.team2.value_counts()],).transpose().reset_index()\n",
    "\n",
    "team_stat2= pd.merge(temp, temp2, on='winner', how='inner')\n",
    "team_stat2= pd.merge(team_stat2, temp3, left_on='winner',right_on='index', how='inner')\n",
    "\n",
    "team_stat2.rename(columns={'id_x':'batting_first','id_y':'batting_second'}, inplace= True)\n",
    "team_stat2.drop(columns=['index'], inplace= True)\n",
    "\n",
    "# finding win percent inning wise\n",
    "team_stat2['win_percent_first']= team_stat2['batting_first']/ team_stat2['team1']\n",
    "team_stat2['win_percent_second']= team_stat2['batting_second']/ team_stat2['team2']\n",
    "\n",
    "# Aggregating the win percent\n",
    "team_stat2['win_percent']=(team_stat2.batting_first+ team_stat2.batting_second)/ (team_stat2.team1+ team_stat2.team2)"
   ]
  },
  {
   "cell_type": "code",
   "execution_count": null,
   "metadata": {},
   "outputs": [],
   "source": [
    "team_stat2['total_wins']= team_stat2.batting_first + team_stat2.batting_second\n",
    "\n",
    "# Sorting the values\n",
    "team_stat2.sort_values(by='total_wins', inplace=True, ascending=False)\n",
    "team_stat2.head()"
   ]
  },
  {
   "cell_type": "code",
   "execution_count": null,
   "metadata": {},
   "outputs": [],
   "source": [
    "plt.figure(figsize=(8,6))\n",
    "sns.set_style('ticks')\n",
    "\n",
    "sns.barplot(team_stat2.winner, team_stat2.total_wins ,label='Total wins', color='tab:blue')\n",
    "plt.xticks(rotation=90)\n",
    "plt.xlabel('IPL Team')\n",
    "plt.ylabel('Total wins')\n",
    "\n",
    "axes2= plt.twinx()\n",
    "axes2.plot(team_stat2.winner,team_stat2.win_percent_first ,'g-o',label='Batting First')\n",
    "axes2.plot(team_stat2.winner,team_stat2.win_percent_second ,'y-o',label='Fielding First')\n",
    "axes2.plot(team_stat2.winner,team_stat2.win_percent ,'r-o',label='Average winning rate')\n",
    "\n",
    "plt.ylabel('Winning Percent')\n",
    "plt.yticks(np.arange(0,1.1,0.1) )\n",
    "plt.title('Cliffhanger wins for each team')\n",
    "plt.legend(loc=9 )\n",
    "plt.show()"
   ]
  },
  {
   "cell_type": "markdown",
   "metadata": {},
   "source": [
    "Chennais Super Kings are again the kings of winning cliffhanger matches. Among the 24 matches where they were chasing that were decided in the last 3 balls, they won whooping 87% of those games (21 games). Rajasthan Royals won 80% of these types of games (12/15 matches). \n",
    "\n",
    "When defending a target Mumbai Indians seem to better at holding the nerves as they won 41% of the matches where the winning margin was less than 6 runs.\n",
    "\n",
    "Overall CSK and RR have won the most cliffhanger games winning 64% and 65% of these games respectively."
   ]
  },
  {
   "cell_type": "code",
   "execution_count": null,
   "metadata": {},
   "outputs": [],
   "source": [
    "team_stat2"
   ]
  },
  {
   "cell_type": "markdown",
   "metadata": {},
   "source": [
    "### Distribution of wins\n",
    "We will next see the distribution of wins for the teams batting first and second."
   ]
  },
  {
   "cell_type": "code",
   "execution_count": null,
   "metadata": {},
   "outputs": [],
   "source": [
    "# Distribution for team batting first\n",
    "temp= match.query('win_by_runs!=0')\n",
    "\n",
    "plt.figure(figsize=(8,6))\n",
    "plt.hist(temp.win_by_runs, bins=15)\n",
    "plt.xticks(np.arange(0,160,10))\n",
    "plt.xlabel('Margin of win by runs')\n",
    "plt.ylabel('Frequency')\n",
    "plt.title('Distribution for victory margin(in runs)')\n",
    "plt.show()"
   ]
  },
  {
   "cell_type": "code",
   "execution_count": null,
   "metadata": {},
   "outputs": [],
   "source": [
    "match.query('batting_first_won==False').shape[0]"
   ]
  },
  {
   "cell_type": "code",
   "execution_count": null,
   "metadata": {},
   "outputs": [],
   "source": [
    "160/421"
   ]
  },
  {
   "cell_type": "markdown",
   "metadata": {},
   "source": [
    "Overall, the team batting first won 44.3% of the games while the team batting second won 55.7% of these games.\n",
    "\n",
    "As the histogram above shows about 24% of the games that were won by the batting first team, the winning margin was less than 10 runs. \n",
    "\n",
    "However, 38% of the games won by the winning team were won in the 20th over, showing how close the matches have been."
   ]
  },
  {
   "cell_type": "code",
   "execution_count": null,
   "metadata": {},
   "outputs": [],
   "source": [
    "# Distribution for team batting second\n",
    "temp = match.query('win_by_wickets>0').overs_2.apply(lambda x: int(x))\n",
    "\n",
    "plt.figure(figsize=(8,6))\n",
    "plt.hist(temp, bins= 16  )\n",
    "plt.xticks(np.arange(5,21,1))\n",
    "plt.xlabel('Overs')\n",
    "plt.ylabel('Frequency')\n",
    "plt.title('Which over did the chasing team win the match?')\n",
    "plt.show()"
   ]
  },
  {
   "cell_type": "markdown",
   "metadata": {},
   "source": [
    "### Best Batting statistics"
   ]
  },
  {
   "cell_type": "code",
   "execution_count": null,
   "metadata": {},
   "outputs": [],
   "source": [
    "# Most runs scored by a batsman\n",
    "temp=batsman.sort_values(by='total_runs', ascending= False).head(7)\n",
    "sns.set_style('dark')\n",
    "\n",
    "plt.figure(figsize= (8,6))\n",
    "sns.barplot(x= temp.batsman, y= temp.total_runs, color= 'tab:blue')\n",
    "plt.ylabel('Total Runs scored')\n",
    "plt.xlabel('Batsmen')\n",
    "plt.title('Most runs scored by a batsman')\n",
    "plt.yticks(np.arange(0,5600,500))\n",
    "\n",
    "axes2= plt.twinx()\n",
    "axes2.plot(temp.batsman, temp.boundary_percent*100, 'r-o', label='Percent of runs scored in boundary')\n",
    "axes2.plot(temp.batsman, temp.strike_rate, 'y-o', label='Strike Rate')\n",
    "plt.ylabel('Percent/ Strike Rate')\n",
    "plt.yticks(np.arange(50,180,10))\n",
    "plt.legend()\n",
    "plt.show()"
   ]
  },
  {
   "cell_type": "markdown",
   "metadata": {},
   "source": [
    "Virat Kohli and Suresh Raina are among the highest run scorers in IPL with each scoring more than 5400 runs. However, one of the highest strike rates (145%) among the top batsmen is by Chris Gayle. \n",
    "\n",
    "Gayle also has one of the highest number of runs scored in boundaries with a whooping 76% runs being scored in 4s and 6s. David Warner comes next with about 61% runs being scored in boundaries among the top 7 batsmen."
   ]
  },
  {
   "cell_type": "code",
   "execution_count": null,
   "metadata": {},
   "outputs": [],
   "source": [
    "# Most runs scored by an opening batsman\n",
    "temp=batsman.sort_values(by='opening_runs', ascending= False).head(7)\n",
    "sns.set_style('dark', )\n",
    "\n",
    "plt.figure(figsize= (8,6))\n",
    "sns.barplot(x= temp.batsman, y= temp.opening_runs, color= 'tab:blue')\n",
    "plt.ylabel('Total Runs scored')\n",
    "plt.xlabel('Batsmen')\n",
    "plt.title('Most runs scored by an opener')\n",
    "plt.yticks(np.arange(0,5100,500))\n",
    "\n",
    "axes2= plt.twinx()\n",
    "axes2.plot(temp.batsman, temp.boundary_percent*100, 'r-o', label='Percent of runs scored in boundary')\n",
    "axes2.plot(temp.batsman, temp.strike_rate, 'y-o', label='Strike Rate')\n",
    "plt.ylabel('Percent/ Strike Rate')\n",
    "plt.yticks(np.arange(50,180,10))\n",
    "\n",
    "plt.legend()\n",
    "plt.show()"
   ]
  },
  {
   "cell_type": "markdown",
   "metadata": {},
   "source": [
    "Chris Gayle, Shikhar Dhawan and David Warner are among the highest run scorers for openers having scored more than 4000 runs in the opening position.\n",
    "\n",
    "Interestingly, Sehwag and McCullum who are also among other top openers, like Gayle, they have also scored 72% and 67% of their runs in boundaries."
   ]
  },
  {
   "cell_type": "markdown",
   "metadata": {},
   "source": [
    "### Best Bowling Statistics"
   ]
  },
  {
   "cell_type": "code",
   "execution_count": null,
   "metadata": {},
   "outputs": [],
   "source": [
    "# Most wickets taken\n",
    "temp= bowler.sort_values(by='wickets_taken', ascending= False).head(7)\n",
    "\n",
    "plt.figure(figsize=(9,6))\n",
    "sns.barplot(x= temp.bowler, y= temp.wickets_taken, color= 'tab:blue')\n",
    "plt.ylabel('Wickets taken')\n",
    "plt.yticks(np.arange(0,190,20))\n",
    "\n",
    "axes2= plt.twinx()\n",
    "axes2.plot(temp.bowler, temp.bowl_lbw_percent, 'g-o', label='Percent of bowled/LBW dismissals')\n",
    "axes2.plot(temp.bowler, temp.dot_ball_percent, 'r-o', label='Percent dot balls')\n",
    "plt.ylabel('Percent', )\n",
    "plt.yticks(np.arange(0,0.6,0.1))\n",
    "plt.legend()\n",
    "plt.title('Most wickets taken and their economy')\n",
    "\n",
    "plt.show()"
   ]
  },
  {
   "cell_type": "code",
   "execution_count": null,
   "metadata": {},
   "outputs": [],
   "source": [
    "temp"
   ]
  },
  {
   "cell_type": "markdown",
   "metadata": {},
   "source": [
    "S. Malinga, Amit Mishra and Harbhanjan Singh are one of the highest wicket takers in IPL. 43% of the wickets taken by Malinga have been either bowled or LBW showing how effective bowler he is. Piyush Chawla also has a similar bowled/lbw dismisal percent (39%).\n",
    "\n",
    "Bhuvaneshwar Kumar has one of the highest dot ball percents (41%) among the leading wicket takers slightly ahead of Malinga (38%)."
   ]
  },
  {
   "cell_type": "code",
   "execution_count": null,
   "metadata": {},
   "outputs": [],
   "source": [
    "# Bowlers with best economy\n",
    "temp =bowler.query('balls_bowled > 120').sort_values(by='economy', ascending= True).head(10)\n",
    "sns.set_style('darkgrid')\n",
    "plt.figure(figsize=(12,6))\n",
    "sns.lineplot(temp.bowler, temp.economy, color='tab:red', marker='o', label='Economy', sort= False)\n",
    "sns.lineplot(temp.bowler, temp.death_econ, color='tab:green', marker='o', label='Economy in death overs (>18)', sort= False)\n",
    "sns.lineplot(temp.bowler, temp.dot_ball_percent*6, color='tab:blue', marker='o', label='Average dot balls per over', sort= False)\n",
    "plt.yticks(np.arange(0,11,1))\n",
    "plt.ylabel('Economy/ Dot balls per over')\n",
    "plt.xlabel('Bowler')\n",
    "plt.title('Most economical bowlers')\n",
    "plt.legend()\n",
    "plt.show()"
   ]
  },
  {
   "cell_type": "code",
   "execution_count": null,
   "metadata": {},
   "outputs": [],
   "source": [
    "bowler.query('balls_bowled > 120').sort_values(by='death_balls', ascending= False)"
   ]
  },
  {
   "cell_type": "markdown",
   "metadata": {},
   "source": [
    "Among major bowlers (who bowled more than 20 overs), Sohail Tanvir and A Chandillan are one of the most economical bowlers with an economy of around 6.22 and 6.28. However, Anil Kumble has one of the best economies in the death overs of 6.64 compared to 7.8 of Sohail Tanvir. (I took the last 3 overs of the innings as the death overs.)\n",
    "\n",
    "Bravo and Malinga seem to have the most trust of their captain in death overs, having bowled a total of 130 and 120 overs respectively in the death overs of the matches."
   ]
  },
  {
   "cell_type": "markdown",
   "metadata": {},
   "source": [
    "### Venue Analysis"
   ]
  },
  {
   "cell_type": "code",
   "execution_count": null,
   "metadata": {},
   "outputs": [],
   "source": [
    "# Win percentage for team batting first on each venue\n",
    "major_city= ['Bangalore','Chandigarh','Chennai','Delhi','Hyderabad','Jaipur','Kolkata','Mumbai','Pune']\n",
    "\n",
    "temp = match[match['city'].isin(major_city) ]"
   ]
  },
  {
   "cell_type": "code",
   "execution_count": null,
   "metadata": {},
   "outputs": [],
   "source": [
    "# Win percentage for team batting first on each venue\n",
    "temp2 = temp.groupby(by='city').batting_first_won.mean()\n",
    "\n",
    "plt.figure(figsize=(9,6))\n",
    "sns.barplot(x=temp2.index, y=temp2, color='tab:blue')\n",
    "plt.axhline(match.batting_first_won.mean(), color='r', label='Average winning rate for team batting first', linestyle='--')\n",
    "plt.xlabel('Venue for the match')\n",
    "plt.ylabel('Percent win for team batting first')\n",
    "plt.title('Winning percent for team batting first across the venues')\n",
    "plt.yticks(np.arange(0,0.7,0.05))\n",
    "plt.legend()\n",
    "plt.show()"
   ]
  },
  {
   "cell_type": "markdown",
   "metadata": {},
   "source": [
    "As we saw earlier, the team batting first has a winning percent of 44.3%. However, across the stadiums in Chennai the team batting first wins whooping 61% of the games while this number is very low in Jaipur (32%). This could probably be explained from the fact that CSK which has a higher win percent among all teams mostly bats first when playing in Chennai.\n",
    "\n",
    "Bangalore and Mumbai are venues that have higher than average runs scored (median of 170 runs) compared to Hyderabad which has lower scoring matches (median around 155)."
   ]
  },
  {
   "cell_type": "code",
   "execution_count": null,
   "metadata": {},
   "outputs": [],
   "source": [
    "major_teams= ['Hyderabad (Sunriser/Chargers)', 'Kolkata Knight Riders', 'Kings XI Punjab',\n",
    "       'Royal Challengers Bangalore', 'Mumbai Indians',\n",
    "       'Delhi (Capitals/ Daredevils)','Chennai Super Kings', 'Rajasthan Royals']\n",
    "temp.pivot_table(index='city', columns='winner',values='batting_first_won', aggfunc='mean' )[major_teams]"
   ]
  },
  {
   "cell_type": "code",
   "execution_count": null,
   "metadata": {},
   "outputs": [],
   "source": [
    "plt.figure(figsize=(8,6))\n",
    "\n",
    "sns.boxplot(x=temp.city, y=temp.runs_1,color= 'tab:blue' )\n",
    "plt.axhline(match.runs_1.median(), color='r', linestyle='--')\n",
    "plt.yticks(np.arange(0,325,20))\n",
    "plt.ylabel('Runs scored on the venue')\n",
    "plt.xlabel('Venue')\n",
    "plt.title('Runs scored on each venue')\n",
    "plt.show()"
   ]
  },
  {
   "cell_type": "code",
   "execution_count": null,
   "metadata": {},
   "outputs": [],
   "source": [
    "# Venue wise distribution for runs scored by team batting first\n",
    "plt.figure(figsize=(9,6))\n",
    "temp= match[match['city'].isin(major_city)]\n",
    "sns.scatterplot(x= temp.runs_1, y= temp.city, hue= temp.batting_first_won, y_jitter= 1 )\n",
    "plt.xticks(np.arange(60,270,20))\n",
    "plt.legend(loc=(1.05,0.5))\n",
    "plt.xlabel('Runs scored by team batting first')\n",
    "plt.ylabel('Venue of the match')\n",
    "plt.title('Runs scored by team batting first in each venue')\n",
    "plt.show()"
   ]
  },
  {
   "cell_type": "code",
   "execution_count": null,
   "metadata": {},
   "outputs": [],
   "source": [
    "# Venue wise distribution for runs scored by team batting first\n",
    "plt.figure(figsize=(9,6))\n",
    "#temp= match[match['team1'].isin(major_teams)]\n",
    "sns.scatterplot(x= match.runs_1, y= match.team1, hue= match.batting_first_won, y_jitter= 1 )\n",
    "plt.xticks(np.arange(60,270,20))\n",
    "plt.legend(loc=(1.03,0.8))\n",
    "plt.xlabel('Runs scored by team batting first')\n",
    "plt.ylabel('IPL Teams')\n",
    "plt.title('Runs scored by team batting first vs winning record')\n",
    "plt.show()"
   ]
  },
  {
   "cell_type": "markdown",
   "metadata": {},
   "source": [
    "### Most runs scored in winning cause"
   ]
  },
  {
   "cell_type": "code",
   "execution_count": null,
   "metadata": {},
   "outputs": [],
   "source": [
    "# Merging the match winner to the Ball dataframe\n",
    "ball= pd.merge(ball, match.loc[:,['id','winner']], left_on='match_id', right_on= 'id', how='left')"
   ]
  },
  {
   "cell_type": "code",
   "execution_count": null,
   "metadata": {},
   "outputs": [],
   "source": [
    "temp = ball[ball.batting_team== ball.winner].groupby(by=['batsman', 'match_id']).sum()['batsman_runs'].reset_index()\n",
    "s1= temp.groupby(by='batsman').sum()['batsman_runs'].sort_values(ascending= False).head(15)\n",
    "\n",
    "temp1= ball.groupby(by=['batting_team','match_id', 'batsman']).sum()['batsman_runs'].reset_index()\n",
    "temp2= pd.merge(temp1, match[['id','winner']], left_on= 'match_id', right_on='id', how='left')\n",
    "temp2['is_win'] = temp2.winner== temp2.batting_team\n",
    "temp3= temp2.query('batsman_runs>50').groupby(by='batsman').mean()['is_win'].sort_values(ascending= False).reset_index()\n",
    "temp4= pd.merge(temp3[temp3.batsman.isin(s1.index)], s1.reset_index(),on='batsman', how='inner').sort_values(by='batsman_runs', ascending= False)"
   ]
  },
  {
   "cell_type": "code",
   "execution_count": null,
   "metadata": {},
   "outputs": [],
   "source": [
    "sns.set_style('dark')\n",
    "plt.figure(figsize=(8,6))\n",
    "sns.barplot(y= 'batsman_runs', x= 'batsman', data= temp4, color= 'tab:blue')\n",
    "plt.xticks(rotation=90)\n",
    "plt.title('Most runs scored in winning cause and win percent')\n",
    "#plt.yticks('Runs scored by batsmen in winning cause')\n",
    "\n",
    "axes= plt.twinx()\n",
    "axes.plot(temp4.batsman, temp4.is_win,  'r--o', label='Win percent when batsman scored >50 runs')\n",
    "plt.ylabel('Win percent when batsman scored more than 50 runs')\n",
    "plt.yticks(np.arange(0.4,0.90,0.05))\n",
    "\n",
    "plt.legend()\n",
    "plt.show()"
   ]
  },
  {
   "cell_type": "markdown",
   "metadata": {},
   "source": [
    "Suresh Raina, Rohit Sharma and David Warner have scored the most number of runs in winning causes. In fact, whenever Raina scored more than 50 runs, 66% of the times his team ended up winning the match.\n",
    "\n",
    "However, whenever Shane Watson scored more than 50 runs, his team ended up winning more than 81% of the times. This win percent is 74% for MS Dhoni whenever he scored half century."
   ]
  },
  {
   "cell_type": "markdown",
   "metadata": {},
   "source": [
    "### Most Man of the Match awards"
   ]
  },
  {
   "cell_type": "code",
   "execution_count": null,
   "metadata": {},
   "outputs": [],
   "source": [
    "s= match.player_of_match.value_counts().head(10)\n",
    "plt.figure(figsize=(8,6))\n",
    "sns.barplot(y= s.index, x= s, color= 'tab:blue')\n",
    "plt.xlabel('Number of awards')\n",
    "plt.ylabel('Player name')\n",
    "plt.title('Most number of Player of the Match awards')\n",
    "plt.xticks(np.arange(0,24,2))\n",
    "plt.show()"
   ]
  },
  {
   "cell_type": "markdown",
   "metadata": {},
   "source": [
    "Chris Gayle and Ab de Villiers have won the most number of Player of the Match awards."
   ]
  },
  {
   "cell_type": "code",
   "execution_count": null,
   "metadata": {},
   "outputs": [],
   "source": [
    "temp= ball.groupby(by=['batsman', 'match_id']).sum()['batsman_runs'].reset_index()\n",
    "\n",
    "temp['>25']= temp.batsman_runs> 25\n",
    "s1= temp.groupby(by='batsman').mean()['>25'].sort_values(ascending= False)\n",
    "s2= temp.groupby(by='batsman').count()['match_id'].sort_values(ascending= False)\n",
    "\n",
    "temp['>50']= temp.batsman_runs> 50\n",
    "s3= temp.groupby(by='batsman').mean()['>50'].sort_values(ascending= False)\n",
    "\n",
    "df1= pd.DataFrame([s1,s3,s2]).transpose()\n",
    "temp2= df1.query('match_id>=10').head(10)\n",
    "\n",
    "plt.figure(figsize=(8,6))\n",
    "sns.barplot(x= temp2.index, y= temp2.match_id, color= 'tab:blue')\n",
    "plt.xticks(rotation=90)\n",
    "plt.ylabel('Total matches played')\n",
    "plt.title('Batsman consistency across matches')\n",
    "\n",
    "axes= plt.twinx()\n",
    "axes.plot(temp2.index, temp2['>25'], 'g--o', label='Percent when batsman scored > 25')\n",
    "axes.plot(temp2.index, temp2['>50'], 'r--o', label='Percent when batsman scored > 50')\n",
    "plt.legend()\n",
    "plt.xticks(rotation=90)\n",
    "plt.xlabel('Player name')\n",
    "plt.ylabel('Percent')\n",
    "plt.show()"
   ]
  },
  {
   "cell_type": "markdown",
   "metadata": {},
   "source": [
    "To measure the consistency of batsmen I saw how many times they scored more than 25 runs and 50 runs across all the matches they played (should have played atleast 10 matches). \n",
    "\n",
    "J. Bairstow is the most consistent batsman who has scored atleast 25 runs in 70% of the matches he played. However, considering that Bairstow has played only 10 IPL matches, David Warner's record looks very impressive having scored more than 50 runs in 38% of the matches (and 25+ runs in 56% matches) and having played more than 120 matches."
   ]
  },
  {
   "cell_type": "code",
   "execution_count": null,
   "metadata": {},
   "outputs": [],
   "source": [
    "temp2"
   ]
  },
  {
   "cell_type": "markdown",
   "metadata": {},
   "source": [
    "# 5. Summary"
   ]
  },
  {
   "cell_type": "markdown",
   "metadata": {},
   "source": [
    "It was really fun analyzing the IPL data and there feels that there is so much more that can be done. The key takeaways from my analysis are-\n",
    "\n",
    "**Team Statistics** <br>\n",
    "a) CSK has one of the highest win percents in the IPL games winning about 61% of its games followed by Mumbai Indians. All the teams have a better chasing record than batting first record (chasing team wins 55.7% matches).This difference is most prominent in Kolkata Knight Riders who have a win percent of 61% chasing but only 41% batting first.\n",
    "\n",
    "b) About 24% of the games that were won by the batting first team, the winning margin was less than 10 runs. However, 38% of the games won by the winning team were won in the 20th over, showing how close the matches have been.\n",
    "\n",
    "**Batsman Statistics** <br>\n",
    "a) Virat Kohli and Suresh Raina are among the highest run scorers in IPL with each scoring more than 5400 runs. However, Chris Gayle also has one of the highest number of runs scored in boundaries with a whooping 76% runs being scored in 4s and 6s. \n",
    "\n",
    "b) Suresh Raina, Rohit Sharma and David Warner have scored the most number of runs in winning causes. In fact, whenever Raina scored more than 50 runs, 66% of the times his team ended up winning the match (it is 81% for Shane Watson and 74% for MS Dhoni).\n",
    "\n",
    "c) J. Bairstow is the most consistent batsman who has scored atleast 25 runs in 70% of the matches he played. However, David Warner's record looks very impressive having scored more than 50 runs in 38% of the matches (and 25+ runs in 56% matches) and having played more than 120 matches.\n",
    "\n",
    "**Bowler Statistics** <br>\n",
    "a) Lasith Malinga  and Amit Mishra are one of the highest wicket takers in IPL. 43% of the wickets taken by Malinga have been either bowled or LBW. Bhuvaneshwar Kumar has one of the highest dot ball percents (41%) among the leading wicket takers.\n",
    "\n",
    "b) Among major bowlers (who bowled more than 20 overs), Sohail Tanvir and A Chandillan are one of the most economical bowlers with an economy of around 6.22 and 6.28. However, Anil Kumble has one of the best economies in the death overs of 6.64. \n",
    "\n",
    "**Stadium Statistics** <br>\n",
    "a) The team batting first has a winning chance of 44.3%. However, in Chennai the team batting first wins whooping 61% of the games while this number is very low in Jaipur (32%)."
   ]
  }
 ],
 "metadata": {
  "kernelspec": {
   "display_name": "Python 3",
   "language": "python",
   "name": "python3"
  },
  "language_info": {
   "codemirror_mode": {
    "name": "ipython",
    "version": 3
   },
   "file_extension": ".py",
   "mimetype": "text/x-python",
   "name": "python",
   "nbconvert_exporter": "python",
   "pygments_lexer": "ipython3",
   "version": "3.7.7"
  }
 },
 "nbformat": 4,
 "nbformat_minor": 4
}
